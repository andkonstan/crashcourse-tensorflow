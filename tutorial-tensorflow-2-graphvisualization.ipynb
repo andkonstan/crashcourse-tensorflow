{
 "cells": [
  {
   "cell_type": "markdown",
   "metadata": {
    "collapsed": true
   },
   "source": [
    "# Tensorflow tutorial\n",
    "\n",
    "### Μέρος 2 - Οπτικοποίηση του γράφου υπολογισμού. Εισαγωγή στο tensorboard.\n",
    "\n",
    "#### Γ.Σφήκας, Σεπ.2017\n"
   ]
  },
  {
   "cell_type": "code",
   "execution_count": 1,
   "metadata": {},
   "outputs": [],
   "source": [
    "# Θα χρησιμοποιήσουμε τον γράφο του μέρους 1.\n",
    "# Με αυτό τον γράφο είχαμε υλοποίησει ένα φίλτρο Sobel.\n",
    "\n",
    "import tensorflow as tf\n",
    "tf.reset_default_graph()\n",
    "sess = tf.InteractiveSession()\n",
    "\n",
    "sobel_horizontal = tf.constant([ [-1., 0., 1.], [-2., 0., 2.], [-1., 0., 1.] ], name=\"sobel_horizontal\")\n",
    "sobel_vertical = tf.constant([ [-1., -2., -1.], [0., 0., 0.], [1., 2., 1.] ], name=\"sobel_vertical\")\n",
    "input_image = tf.placeholder(tf.float32, shape=[None, 512, 512], name=\"input_image\")\n",
    "\n",
    "sobel_horizontal_output =  tf.nn.conv2d(\n",
    "    tf.reshape(input_image, [1, 512, 512, 1]), \n",
    "    tf.reshape(sobel_horizontal, [3, 3, 1, 1]), \n",
    "    strides=[1, 1, 1, 1], \n",
    "    padding=\"SAME\",\n",
    "    name = 'sobel_horizontal_output')\n",
    "sobel_vertical_output =  tf.nn.conv2d(\n",
    "    tf.reshape(input_image, [1, 512, 512, 1]), \n",
    "    tf.reshape(sobel_vertical, [3, 3, 1, 1]), \n",
    "    strides=[1, 1, 1, 1], \n",
    "    padding=\"SAME\",\n",
    "    name = 'sobel_vertical_output')\n",
    "\n",
    "sobel_mag = tf.add(tf.abs(sobel_horizontal_output), tf.abs(sobel_vertical_output), name = \"sobel_mag\")"
   ]
  },
  {
   "cell_type": "code",
   "execution_count": 2,
   "metadata": {},
   "outputs": [
    {
     "name": "stdout",
     "output_type": "stream",
     "text": [
      "sobel_horizontal\nsobel_vertical\ninput_image\nReshape/shape\nReshape\nReshape_1/shape\nReshape_1\nsobel_horizontal_output\nReshape_2/shape\nReshape_2\nReshape_3/shape\nReshape_3\nsobel_vertical_output\nAbs\nAbs_1\nsobel_mag\n"
     ]
    }
   ],
   "source": [
    "# Μπορούμε να δούμε τα στοιχεία του γράφου σε μορφή κειμένου:\n",
    "for op in tf.get_default_graph().get_operations():\n",
    "    print str(op.name)"
   ]
  },
  {
   "cell_type": "code",
   "execution_count": 4,
   "metadata": {},
   "outputs": [],
   "source": [
    "# Ακόμα καλύτερα, μπορούμε να οπτικοποιήσουμε τον γράφο.\n",
    "# Για να γίνει αυτό θα πρέπει πρώτα να αποθηκεύσουμε τον γράφο \n",
    "# προσωρινά στον δίσκο, χρησιμοποιώντας την κλάση tf.summary,\n",
    "\n",
    "writer = tf.summary.FileWriter('/tmp/tftut/1')\n",
    "writer.add_graph(sess.graph)\n"
   ]
  },
  {
   "cell_type": "code",
   "execution_count": 4,
   "metadata": {},
   "outputs": [],
   "source": [
    "# Μπορούμε να τρέξουμε τώρα to tensorboard από γραμμή εντολής με\n",
    "# tensorboard --logdir /tmp/tftut/1\n",
    "\n",
    "# Κάνοντας κλικ στο tab 'graphs' μπορούμε να δούμε τον γράφο υπολογισμού.\n",
    "# Ο γράφος που θα δούμε θα πρέπει να μοιάζει με τον παρακάτω :"
   ]
  },
  {
   "cell_type": "markdown",
   "metadata": {},
   "source": [
    "![alt text](fixtures/tf_sobel_graph.png \"Data flow graph for Sobel filter\")\n"
   ]
  },
  {
   "cell_type": "markdown",
   "metadata": {},
   "source": []
  }
 ],
 "metadata": {
  "kernelspec": {
   "display_name": "Python 2",
   "language": "python",
   "name": "python2"
  },
  "language_info": {
   "codemirror_mode": {
    "name": "ipython",
    "version": 2
   },
   "file_extension": ".py",
   "mimetype": "text/x-python",
   "name": "python",
   "nbconvert_exporter": "python",
   "pygments_lexer": "ipython2",
   "version": "2.7.6"
  }
 },
 "nbformat": 4,
 "nbformat_minor": 0
}
